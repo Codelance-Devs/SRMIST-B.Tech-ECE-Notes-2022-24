{
 "cells": [
  {
   "cell_type": "code",
   "execution_count": 3,
   "id": "4614c153-da18-4261-b62f-a05a22f1289c",
   "metadata": {},
   "outputs": [
    {
     "name": "stdout",
     "output_type": "stream",
     "text": [
      "Note: you may need to restart the kernel to use updated packages.\n"
     ]
    },
    {
     "name": "stderr",
     "output_type": "stream",
     "text": [
      "WARNING: Ignoring invalid distribution -ip (c:\\python39\\lib\\site-packages)\n",
      "WARNING: Ignoring invalid distribution -ip (c:\\python39\\lib\\site-packages)\n",
      "ERROR: Could not find a version that satisfies the requirement pylab (from versions: none)\n",
      "ERROR: No matching distribution found for pylab\n",
      "WARNING: Ignoring invalid distribution -ip (c:\\python39\\lib\\site-packages)\n",
      "WARNING: Ignoring invalid distribution -ip (c:\\python39\\lib\\site-packages)\n",
      "WARNING: Ignoring invalid distribution -ip (c:\\python39\\lib\\site-packages)\n"
     ]
    }
   ],
   "source": [
    "%pip install pylab"
   ]
  },
  {
   "cell_type": "code",
   "execution_count": 5,
   "id": "c3ee9b0c-c5db-4a46-a829-589a1c30338d",
   "metadata": {},
   "outputs": [
    {
     "ename": "ValueError",
     "evalue": "Some errors were detected !\n    Line #1 (got 35 columns instead of 2)\n    Line #2 (got 35 columns instead of 2)\n    Line #3 (got 35 columns instead of 2)\n    Line #4 (got 35 columns instead of 2)\n    Line #5 (got 35 columns instead of 2)\n    Line #6 (got 35 columns instead of 2)\n    Line #7 (got 35 columns instead of 2)\n    Line #8 (got 35 columns instead of 2)\n    Line #9 (got 35 columns instead of 2)\n    Line #10 (got 35 columns instead of 2)\n    Line #11 (got 35 columns instead of 2)\n    Line #12 (got 35 columns instead of 2)\n    Line #13 (got 35 columns instead of 2)\n    Line #14 (got 35 columns instead of 2)\n    Line #15 (got 35 columns instead of 2)\n    Line #16 (got 35 columns instead of 2)\n    Line #17 (got 35 columns instead of 2)\n    Line #18 (got 35 columns instead of 2)\n    Line #19 (got 35 columns instead of 2)\n    Line #20 (got 35 columns instead of 2)\n    Line #21 (got 35 columns instead of 2)\n    Line #22 (got 35 columns instead of 2)\n    Line #23 (got 35 columns instead of 2)",
     "output_type": "error",
     "traceback": [
      "\u001b[1;31m---------------------------------------------------------------------------\u001b[0m",
      "\u001b[1;31mValueError\u001b[0m                                Traceback (most recent call last)",
      "Cell \u001b[1;32mIn [5], line 3\u001b[0m\n\u001b[0;32m      1\u001b[0m \u001b[38;5;28;01mimport\u001b[39;00m \u001b[38;5;21;01mnumpy\u001b[39;00m \u001b[38;5;28;01mas\u001b[39;00m \u001b[38;5;21;01mnp\u001b[39;00m\n\u001b[0;32m      2\u001b[0m \u001b[38;5;28;01mimport\u001b[39;00m \u001b[38;5;21;01mpylab\u001b[39;00m\n\u001b[1;32m----> 3\u001b[0m data \u001b[38;5;241m=\u001b[39m \u001b[43mnp\u001b[49m\u001b[38;5;241;43m.\u001b[39;49m\u001b[43mgenfromtxt\u001b[49m\u001b[43m(\u001b[49m\u001b[38;5;124;43m'\u001b[39;49m\u001b[38;5;124;43mweather-raw.csv\u001b[39;49m\u001b[38;5;124;43m'\u001b[39;49m\u001b[43m,\u001b[49m\u001b[43m \u001b[49m\u001b[43mdelimiter\u001b[49m\u001b[38;5;241;43m=\u001b[39;49m\u001b[38;5;124;43m'\u001b[39;49m\u001b[38;5;124;43m,\u001b[39;49m\u001b[38;5;124;43m'\u001b[39;49m\u001b[43m,\u001b[49m\u001b[43m \u001b[49m\u001b[43musecols\u001b[49m\u001b[38;5;241;43m=\u001b[39;49m\u001b[43m(\u001b[49m\u001b[38;5;241;43m5\u001b[39;49m\u001b[43m,\u001b[49m\u001b[38;5;241;43m35\u001b[39;49m\u001b[43m)\u001b[49m\u001b[43m)\u001b[49m \n\u001b[0;32m      4\u001b[0m \u001b[38;5;66;03m# Remove any rows with either missing T or missingp \u001b[39;00m\n\u001b[0;32m      5\u001b[0m data \u001b[38;5;241m=\u001b[39m data[\u001b[38;5;241m~\u001b[39mnp\u001b[38;5;241m.\u001b[39many(np\u001b[38;5;241m.\u001b[39misnan(data), axis\u001b[38;5;241m=\u001b[39m\u001b[38;5;241m1\u001b[39m)]\n",
      "File \u001b[1;32mc:\\python39\\lib\\site-packages\\numpy\\lib\\npyio.py:2266\u001b[0m, in \u001b[0;36mgenfromtxt\u001b[1;34m(fname, dtype, comments, delimiter, skip_header, skip_footer, converters, missing_values, filling_values, usecols, names, excludelist, deletechars, replace_space, autostrip, case_sensitive, defaultfmt, unpack, usemask, loose, invalid_raise, max_rows, encoding, ndmin, like)\u001b[0m\n\u001b[0;32m   2264\u001b[0m \u001b[38;5;66;03m# Raise an exception ?\u001b[39;00m\n\u001b[0;32m   2265\u001b[0m \u001b[38;5;28;01mif\u001b[39;00m invalid_raise:\n\u001b[1;32m-> 2266\u001b[0m     \u001b[38;5;28;01mraise\u001b[39;00m \u001b[38;5;167;01mValueError\u001b[39;00m(errmsg)\n\u001b[0;32m   2267\u001b[0m \u001b[38;5;66;03m# Issue a warning ?\u001b[39;00m\n\u001b[0;32m   2268\u001b[0m \u001b[38;5;28;01melse\u001b[39;00m:\n\u001b[0;32m   2269\u001b[0m     warnings\u001b[38;5;241m.\u001b[39mwarn(errmsg, ConversionWarning, stacklevel\u001b[38;5;241m=\u001b[39m\u001b[38;5;241m2\u001b[39m)\n",
      "\u001b[1;31mValueError\u001b[0m: Some errors were detected !\n    Line #1 (got 35 columns instead of 2)\n    Line #2 (got 35 columns instead of 2)\n    Line #3 (got 35 columns instead of 2)\n    Line #4 (got 35 columns instead of 2)\n    Line #5 (got 35 columns instead of 2)\n    Line #6 (got 35 columns instead of 2)\n    Line #7 (got 35 columns instead of 2)\n    Line #8 (got 35 columns instead of 2)\n    Line #9 (got 35 columns instead of 2)\n    Line #10 (got 35 columns instead of 2)\n    Line #11 (got 35 columns instead of 2)\n    Line #12 (got 35 columns instead of 2)\n    Line #13 (got 35 columns instead of 2)\n    Line #14 (got 35 columns instead of 2)\n    Line #15 (got 35 columns instead of 2)\n    Line #16 (got 35 columns instead of 2)\n    Line #17 (got 35 columns instead of 2)\n    Line #18 (got 35 columns instead of 2)\n    Line #19 (got 35 columns instead of 2)\n    Line #20 (got 35 columns instead of 2)\n    Line #21 (got 35 columns instead of 2)\n    Line #22 (got 35 columns instead of 2)\n    Line #23 (got 35 columns instead of 2)"
     ]
    }
   ],
   "source": [
    "import numpy as np\n",
    "import pylab\n",
    "data = np.genfromtxt('weather-raw.csv', delimiter=',', usecols=(5,35)) \n",
    "# Remove any rows with either missing T or missingp \n",
    "data = data[~np.any(np.isnan(data), axis=1)]\n",
    "# Temperatures are reported after multiplication by a factor of 10 so remove \n",
    "# this factor\n",
    "data[:,0] /= 10\n",
    "# Get the correlation coefficient\n",
    "corr = np.corrcoef(data, rowvar=0)[0,1]\n",
    "print('p-T correlation coefficient: {:.4f}'.format(corr)) \n",
    "# Plot the data on a scatterplot: T on x-axis, p on y-axis.\n",
    "pylab.scatter(*data.T, marker='.')\n",
    "pylab.xlabel('$T$ /$\\mathrm{^\\circC}$') \n",
    "pylab.ylabel('$p$ /mbar')\n",
    "pylab.show()"
   ]
  },
  {
   "cell_type": "code",
   "execution_count": null,
   "id": "736f147e-c61e-4217-a64e-d0df5e2f693d",
   "metadata": {},
   "outputs": [],
   "source": []
  }
 ],
 "metadata": {
  "kernelspec": {
   "display_name": "Python 3 (ipykernel)",
   "language": "python",
   "name": "python3"
  },
  "language_info": {
   "codemirror_mode": {
    "name": "ipython",
    "version": 3
   },
   "file_extension": ".py",
   "mimetype": "text/x-python",
   "name": "python",
   "nbconvert_exporter": "python",
   "pygments_lexer": "ipython3",
   "version": "3.9.5"
  }
 },
 "nbformat": 4,
 "nbformat_minor": 5
}
