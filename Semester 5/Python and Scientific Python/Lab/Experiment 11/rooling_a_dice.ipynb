{
 "cells": [
  {
   "cell_type": "code",
   "execution_count": 2,
   "id": "6617a2ef-88b8-4c7e-856d-7b7c6f1bc915",
   "metadata": {},
   "outputs": [],
   "source": [
    "import random as random_number \n",
    "import sys\n",
    "\n",
    "def roll_dice_and_compute_sum(ndice):\n",
    "    return sum([random_number.randint(1, 6) for i in range(ndice)]) \n",
    "\n",
    "def computer_guess(ndice):\n",
    "    return random_number.randint(ndice, 6*ndice)\n",
    "\n",
    "def player_guess(ndice): \n",
    "    return input('Guess the sum of the no of eyes in the next throw:')\n",
    "\n",
    "def play_one_round(ndice, capital, guess_function): \n",
    "    guess = guess_function(ndice)\n",
    "    throw = roll_dice_and_compute_sum(ndice) \n",
    "    if guess ==throw: \n",
    "        capital += guess \n",
    "    else:\n",
    "        capital -= 1\n",
    "    return capital, throw, guess\n",
    "\n",
    "def play(nrounds, ndice=2):# start capital:\n",
    "    player_capital = computer_capital= nrounds \n",
    "    for i in range(nrounds):\n",
    "        player_capital, throw, guess = play_one_round(ndice, player_capital, player_guess) \n",
    "        print ('YOU guessed %s, got %s' % (guess,throw))\n",
    "        computer_capital, throw, guess = play_one_round(ndice, computer_capital, computer_guess)\n",
    "        print ('Machine guessed %d, got %d' % (guess, throw))\n",
    "        print ('Status: you have %d euros, machine has %d euros' % (player_capital, computer_capital)) \n",
    "        if player_capital ==0:\n",
    "            break \n",
    "        elif computer_capital ==0:\n",
    "            break \n",
    "    if computer_capital> player_capital: \n",
    "        winner = 'Machine' \n",
    "    else:\n",
    "        winner = 'You'\n",
    "    print (winner, 'won!') "
   ]
  },
  {
   "cell_type": "code",
   "execution_count": 3,
   "id": "7072fb6a-5784-4995-8a4f-4efc47097516",
   "metadata": {},
   "outputs": [
    {
     "name": "stdin",
     "output_type": "stream",
     "text": [
      "Guess the sum of the no of eyes in the next throw: 6\n"
     ]
    },
    {
     "name": "stdout",
     "output_type": "stream",
     "text": [
      "YOU guessed 6, got 8\n",
      "Machine guessed 4, got 8\n",
      "Status: you have 3 euros, machine has 3 euros\n"
     ]
    },
    {
     "name": "stdin",
     "output_type": "stream",
     "text": [
      "Guess the sum of the no of eyes in the next throw: 8\n"
     ]
    },
    {
     "name": "stdout",
     "output_type": "stream",
     "text": [
      "YOU guessed 8, got 8\n",
      "Machine guessed 4, got 10\n",
      "Status: you have 2 euros, machine has 2 euros\n"
     ]
    },
    {
     "name": "stdin",
     "output_type": "stream",
     "text": [
      "Guess the sum of the no of eyes in the next throw: 2\n"
     ]
    },
    {
     "name": "stdout",
     "output_type": "stream",
     "text": [
      "YOU guessed 2, got 11\n",
      "Machine guessed 7, got 9\n",
      "Status: you have 1 euros, machine has 1 euros\n"
     ]
    },
    {
     "name": "stdin",
     "output_type": "stream",
     "text": [
      "Guess the sum of the no of eyes in the next throw: 1\n"
     ]
    },
    {
     "name": "stdout",
     "output_type": "stream",
     "text": [
      "YOU guessed 1, got 5\n",
      "Machine guessed 3, got 2\n",
      "Status: you have 0 euros, machine has 0 euros\n",
      "You won!\n"
     ]
    }
   ],
   "source": [
    "play(4)"
   ]
  }
 ],
 "metadata": {
  "kernelspec": {
   "display_name": "Python 3 (ipykernel)",
   "language": "python",
   "name": "python3"
  },
  "language_info": {
   "codemirror_mode": {
    "name": "ipython",
    "version": 3
   },
   "file_extension": ".py",
   "mimetype": "text/x-python",
   "name": "python",
   "nbconvert_exporter": "python",
   "pygments_lexer": "ipython3",
   "version": "3.9.5"
  }
 },
 "nbformat": 4,
 "nbformat_minor": 5
}
