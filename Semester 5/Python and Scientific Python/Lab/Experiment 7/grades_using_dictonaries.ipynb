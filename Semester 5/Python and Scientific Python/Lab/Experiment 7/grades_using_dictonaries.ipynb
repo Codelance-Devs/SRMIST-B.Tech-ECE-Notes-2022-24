{
 "cells": [
  {
   "cell_type": "code",
   "execution_count": 1,
   "id": "bbf81b02",
   "metadata": {},
   "outputs": [
    {
     "name": "stdout",
     "output_type": "stream",
     "text": [
      "{'name': 'Kunal', 'assignments': 45, 'test': 50, 'lab mark': 89}\n"
     ]
    }
   ],
   "source": [
    "student = {\n",
    "    'name': 'Kunal',\n",
    "    'assignments': 45,\n",
    "    'test': 50,\n",
    "    'lab mark': 89,\n",
    "}\n",
    "print(student)"
   ]
  },
  {
   "cell_type": "code",
   "execution_count": 2,
   "id": "9fd1b1fd",
   "metadata": {},
   "outputs": [
    {
     "name": "stdout",
     "output_type": "stream",
     "text": [
      "[{'name': 'Kunal', 'assignments': 45, 'test': 50, 'lab mark': 89}, {'name': 'Louhith', 'assignments': 100, 'test': 100, 'lab mark': 100}, {'name': 'Sangam', 'assignments': 69, 'test': 69, 'lab mark': 69}, {'name': 'Sandeepan', 'assignments': 95, 'test': 100, 'lab mark': 99}, {'name': 'Harish', 'assignments': 96, 'test': 100, 'lab mark': 80}, {'name': 'Likhit', 'assignments': 80, 'test': 100, 'lab mark': 85}]\n"
     ]
    }
   ],
   "source": [
    "students = [\n",
    "    {\n",
    "    'name': 'Kunal',\n",
    "    'assignments': 45,\n",
    "    'test': 50,\n",
    "    'lab mark': 89,\n",
    "},\n",
    "    {\n",
    "    'name': 'Louhith',\n",
    "    'assignments': 100,\n",
    "    'test': 100,\n",
    "    'lab mark': 100,\n",
    "},\n",
    "    {\n",
    "    'name': 'Sangam',\n",
    "    'assignments': 69,\n",
    "    'test': 69,\n",
    "    'lab mark': 69,\n",
    "},\n",
    "    {\n",
    "    'name': 'Sandeepan',\n",
    "    'assignments': 95,\n",
    "    'test': 100,\n",
    "    'lab mark': 99,\n",
    "},\n",
    "    {\n",
    "    'name': 'Harish',\n",
    "    'assignments': 96,\n",
    "    'test': 100,\n",
    "    'lab mark': 80,\n",
    "},\n",
    "    {\n",
    "    'name': 'Likhit',\n",
    "    'assignments': 80,\n",
    "    'test': 100,\n",
    "    'lab mark': 85,\n",
    "}\n",
    "]\n",
    "print(students)"
   ]
  },
  {
   "cell_type": "code",
   "execution_count": 3,
   "id": "30d7a4ab",
   "metadata": {},
   "outputs": [
    {
     "name": "stdout",
     "output_type": "stream",
     "text": [
      "[{'name': 'Kunal', 'assignments': 45, 'test': 50, 'lab mark': 89, 'total': 184}, {'name': 'Louhith', 'assignments': 100, 'test': 100, 'lab mark': 100, 'total': 300}, {'name': 'Sangam', 'assignments': 69, 'test': 69, 'lab mark': 69, 'total': 207}, {'name': 'Sandeepan', 'assignments': 95, 'test': 100, 'lab mark': 99, 'total': 294}, {'name': 'Harish', 'assignments': 96, 'test': 100, 'lab mark': 80, 'total': 276}, {'name': 'Likhit', 'assignments': 80, 'test': 100, 'lab mark': 85, 'total': 265}]\n"
     ]
    }
   ],
   "source": [
    "def calculate_total_marks(list):\n",
    "    for student in list:\n",
    "        total = student['lab mark'] + student['test'] + student['assignments']\n",
    "        student['total'] = total\n",
    "    return list;\n",
    "\n",
    "print(calculate_total_marks(students))"
   ]
  },
  {
   "cell_type": "code",
   "execution_count": 4,
   "id": "9d727920",
   "metadata": {},
   "outputs": [
    {
     "name": "stdout",
     "output_type": "stream",
     "text": [
      "[{'name': 'Kunal', 'assignments': 45, 'test': 50, 'lab mark': 89, 'total': 184, 'average': 61.33333333333333}, {'name': 'Louhith', 'assignments': 100, 'test': 100, 'lab mark': 100, 'total': 300, 'average': 100.0}, {'name': 'Sangam', 'assignments': 69, 'test': 69, 'lab mark': 69, 'total': 207, 'average': 69.0}, {'name': 'Sandeepan', 'assignments': 95, 'test': 100, 'lab mark': 99, 'total': 294, 'average': 98.0}, {'name': 'Harish', 'assignments': 96, 'test': 100, 'lab mark': 80, 'total': 276, 'average': 92.0}, {'name': 'Likhit', 'assignments': 80, 'test': 100, 'lab mark': 85, 'total': 265, 'average': 88.33333333333333}]\n"
     ]
    }
   ],
   "source": [
    "def get_average(list):\n",
    "    for student in list:\n",
    "        student['average'] = (student['total']/300)*100\n",
    "    return list;\n",
    "\n",
    "print(get_average(students))"
   ]
  },
  {
   "cell_type": "code",
   "execution_count": 5,
   "id": "6c989fc0",
   "metadata": {},
   "outputs": [
    {
     "name": "stdout",
     "output_type": "stream",
     "text": [
      "84.77777777777777\n"
     ]
    }
   ],
   "source": [
    "def total_average_marks_of_class(list):\n",
    "    class_len =len(list)\n",
    "    class_average = []\n",
    "    for student in list:\n",
    "        class_average.append(student['average'])\n",
    "        \n",
    "    return (sum(class_average)/class_len)\n",
    "\n",
    "print(total_average_marks_of_class(students))"
   ]
  },
  {
   "cell_type": "code",
   "execution_count": 45,
   "id": "69dc9aec",
   "metadata": {},
   "outputs": [
    {
     "name": "stdout",
     "output_type": "stream",
     "text": [
      "Kunal scored D grade\n",
      "Louhith scored A grade\n",
      "Sangam scored D grade\n",
      "Sandeepan scored A grade\n",
      "Harish scored A grade\n",
      "Likhit scored B grade\n"
     ]
    }
   ],
   "source": [
    "def grade_based_on_mark(list):\n",
    "    for student in list:\n",
    "        if(student['average'] >= 90): \n",
    "            student['grade'] = 'A'\n",
    "        elif(student['average'] >= 80): \n",
    "            student['grade'] = 'B'\n",
    "        elif(student['average'] >= 70): \n",
    "            student['grade'] = 'C'\n",
    "        elif(student['average'] >= 60): \n",
    "            student['grade'] = 'D'\n",
    "        else: \n",
    "            student['grade'] = 'E'\n",
    "    return list;\n",
    "\n",
    "grade_based_on_mark(students)\n",
    "for student in students:\n",
    "    print(student['name'], 'scored', student['grade'], 'grade')"
   ]
  },
  {
   "cell_type": "code",
   "execution_count": null,
   "id": "e051968b",
   "metadata": {},
   "outputs": [],
   "source": []
  }
 ],
 "metadata": {
  "kernelspec": {
   "display_name": "Python 3 (ipykernel)",
   "language": "python",
   "name": "python3"
  },
  "language_info": {
   "codemirror_mode": {
    "name": "ipython",
    "version": 3
   },
   "file_extension": ".py",
   "mimetype": "text/x-python",
   "name": "python",
   "nbconvert_exporter": "python",
   "pygments_lexer": "ipython3",
   "version": "3.10.5"
  }
 },
 "nbformat": 4,
 "nbformat_minor": 5
}
