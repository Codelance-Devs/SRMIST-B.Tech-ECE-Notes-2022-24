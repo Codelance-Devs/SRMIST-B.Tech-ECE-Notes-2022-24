{
 "cells": [
  {
   "cell_type": "code",
   "execution_count": 2,
   "id": "83d30cc0",
   "metadata": {},
   "outputs": [
    {
     "name": "stdout",
     "output_type": "stream",
     "text": [
      "banana\n",
      "price: 4\n",
      "stock: 8 \n",
      "\n",
      "apple\n",
      "price: 2\n",
      "stock: 0 \n",
      "\n",
      "orange\n",
      "price: 1.5\n",
      "stock: 2 \n",
      "\n",
      "pear\n",
      "price: 3\n",
      "stock: 6 \n",
      "\n"
     ]
    }
   ],
   "source": [
    "prices = {\n",
    "    'banana': 4,\n",
    "    'apple': 2,\n",
    "    'orange': 1.5,\n",
    "    'pear': 3\n",
    "}\n",
    "\n",
    "stock = {\n",
    "    'banana': 8,\n",
    "    'apple': 0,\n",
    "    'orange': 2,\n",
    "    'pear': 6\n",
    "}\n",
    "\n",
    "for item in prices:\n",
    "    print(item)\n",
    "    print('price:', prices[item])\n",
    "    print('stock:', stock[item], '\\n')"
   ]
  },
  {
   "cell_type": "code",
   "execution_count": 3,
   "id": "da725786",
   "metadata": {},
   "outputs": [
    {
     "name": "stdout",
     "output_type": "stream",
     "text": [
      "53.0\n"
     ]
    }
   ],
   "source": [
    "total = 0\n",
    "\n",
    "for item in prices:\n",
    "    total = total + (prices[item]*stock[item])\n",
    "    \n",
    "print(total)"
   ]
  },
  {
   "cell_type": "code",
   "execution_count": null,
   "id": "bdb53604",
   "metadata": {},
   "outputs": [],
   "source": []
  }
 ],
 "metadata": {
  "kernelspec": {
   "display_name": "Python 3 (ipykernel)",
   "language": "python",
   "name": "python3"
  },
  "language_info": {
   "codemirror_mode": {
    "name": "ipython",
    "version": 3
   },
   "file_extension": ".py",
   "mimetype": "text/x-python",
   "name": "python",
   "nbconvert_exporter": "python",
   "pygments_lexer": "ipython3",
   "version": "3.9.5"
  }
 },
 "nbformat": 4,
 "nbformat_minor": 5
}
