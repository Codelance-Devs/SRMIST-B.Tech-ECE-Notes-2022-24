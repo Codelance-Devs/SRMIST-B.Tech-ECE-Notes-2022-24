{
 "cells": [
  {
   "cell_type": "code",
   "execution_count": 1,
   "id": "6bb8fbf5-0452-4619-a907-9b0a346aad7e",
   "metadata": {},
   "outputs": [
    {
     "name": "stdout",
     "output_type": "stream",
     "text": [
      "the sound wave of frequency 440Hz is generated and heard\n"
     ]
    }
   ],
   "source": [
    "#Program to generate sound \n",
    "import numpy as np\n",
    "import simpleaudio as sa\n",
    "frequency=440\n",
    "fs=44100\n",
    "seconds=10\n",
    "t=np.linspace(0,seconds,seconds*fs,False)\n",
    "note=np.sin(frequency*t*2*np.pi)\n",
    "audio=note*(2**15-1)/np.max(np.abs(note))\n",
    "audio=audio.astype(np.int16)\n",
    "play_obj=sa.play_buffer(audio,2,2,fs)\n",
    "print(\"the sound wave of frequency 440Hz is generated and heard\")\n",
    "play_obj.wait_done()"
   ]
  },
  {
   "cell_type": "code",
   "execution_count": null,
   "id": "cac6844d-bac4-4f5c-9c99-c870ba7c93df",
   "metadata": {},
   "outputs": [],
   "source": []
  }
 ],
 "metadata": {
  "kernelspec": {
   "display_name": "Python 3 (ipykernel)",
   "language": "python",
   "name": "python3"
  },
  "language_info": {
   "codemirror_mode": {
    "name": "ipython",
    "version": 3
   },
   "file_extension": ".py",
   "mimetype": "text/x-python",
   "name": "python",
   "nbconvert_exporter": "python",
   "pygments_lexer": "ipython3",
   "version": "3.10.5"
  }
 },
 "nbformat": 4,
 "nbformat_minor": 5
}
