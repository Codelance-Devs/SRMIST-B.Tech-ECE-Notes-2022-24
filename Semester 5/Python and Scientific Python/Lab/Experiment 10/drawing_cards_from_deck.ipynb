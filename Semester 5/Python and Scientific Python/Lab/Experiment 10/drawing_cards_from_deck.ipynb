{
 "cells": [
  {
   "cell_type": "code",
   "execution_count": 2,
   "id": "c546b9b0",
   "metadata": {},
   "outputs": [
    {
     "name": "stdout",
     "output_type": "stream",
     "text": [
      "['CA', 'D5', 'HA', 'C4', 'D10', 'SK', 'SJ', 'H5', 'C3', 'H6', 'HQ', 'D4', 'HK', 'H3', 'S2', 'C8', 'H8', 'D3', 'DQ', 'S8', 'C9', 'C6', 'S7', 'C7', 'S10', 'S4', 'S5', 'CJ', 'SQ', 'CQ', 'D2', 'H10', 'D8', 'D9', 'C5', 'DA', 'H4', 'S6', 'SA', 'H9', 'H2', 'D6', 'DJ', 'CK', 'D7', 'S3', 'C2', 'HJ', 'H7', 'C10', 'DK', 'S9']\n",
      "52\n",
      "['CA', 'D5', 'HA', 'C4', 'D10']\n",
      "['SK', 'SJ', 'H5', 'C3', 'H6', 'HQ', 'D4', 'HK', 'H3', 'S2', 'C8', 'H8', 'D3', 'DQ', 'S8', 'C9', 'C6', 'S7', 'C7', 'S10', 'S4', 'S5', 'CJ', 'SQ', 'CQ', 'D2', 'H10', 'D8', 'D9', 'C5', 'DA', 'H4', 'S6', 'SA', 'H9', 'H2', 'D6', 'DJ', 'CK', 'D7', 'S3', 'C2', 'HJ', 'H7', 'C10', 'DK', 'S9']\n",
      "['SK', 'SJ', 'H5', 'C3', 'H6']\n",
      "['HQ', 'D4', 'HK', 'H3', 'S2', 'C8', 'H8', 'D3', 'DQ', 'S8', 'C9', 'C6', 'S7', 'C7', 'S10', 'S4', 'S5', 'CJ', 'SQ', 'CQ', 'D2', 'H10', 'D8', 'D9', 'C5', 'DA', 'H4', 'S6', 'SA', 'H9', 'H2', 'D6', 'DJ', 'CK', 'D7', 'S3', 'C2', 'HJ', 'H7', 'C10', 'DK', 'S9']\n",
      "['HQ', 'D4', 'HK', 'H3', 'S2']\n",
      "['C8', 'H8', 'D3', 'DQ', 'S8', 'C9', 'C6', 'S7', 'C7', 'S10', 'S4', 'S5', 'CJ', 'SQ', 'CQ', 'D2', 'H10', 'D8', 'D9', 'C5', 'DA', 'H4', 'S6', 'SA', 'H9', 'H2', 'D6', 'DJ', 'CK', 'D7', 'S3', 'C2', 'HJ', 'H7', 'C10', 'DK', 'S9']\n",
      "['C8', 'H8', 'D3', 'DQ', 'S8']\n",
      "['C9', 'C6', 'S7', 'C7', 'S10', 'S4', 'S5', 'CJ', 'SQ', 'CQ', 'D2', 'H10', 'D8', 'D9', 'C5', 'DA', 'H4', 'S6', 'SA', 'H9', 'H2', 'D6', 'DJ', 'CK', 'D7', 'S3', 'C2', 'HJ', 'H7', 'C10', 'DK', 'S9']\n",
      "[['CA', 'D5', 'HA', 'C4', 'D10'],\n",
      " ['SK', 'SJ', 'H5', 'C3', 'H6'],\n",
      " ['HQ', 'D4', 'HK', 'H3', 'S2'],\n",
      " ['C8', 'H8', 'D3', 'DQ', 'S8']]\n"
     ]
    }
   ],
   "source": [
    "# deal hands to a set of players\n",
    "\n",
    "import random;\n",
    "import pprint; \n",
    "\n",
    "def make_deck():\n",
    "    ranks = ['A', '2', '3', '4', '5', '6', '7', '8', '9', '10', 'J', 'Q', 'K']\n",
    "    suits = ['C', 'D', 'H', 'S']\n",
    "    deck = []\n",
    "    for s in suits:   \n",
    "        for r in ranks:\n",
    "            deck.append(s + r)\n",
    "    random.shuffle(deck)\n",
    "    return deck\n",
    "\n",
    "def deal_hand(n, deck):\n",
    "    hand = [deck[i] for i in range(n)]\n",
    "    del deck[:n]\n",
    "    return hand, deck\n",
    "\n",
    "def deal(cards_per_hand, no_of_players):\n",
    "    deck = make_deck() #52 cards in deck\n",
    "    print(deck)\n",
    "    print(len(deck))\n",
    "    hands = []   #empty array--> count=0; consists of nothing\n",
    "    for i in range(no_of_players):   # 4players(i=0,1,2,3 ---> 4times\n",
    "        hand, deck = deal_hand(cards_per_hand, deck)  #5,52\n",
    "        print(hand)\n",
    "        print(deck)\n",
    "        hands.append(hand)    #adding to the empty array-- store hand values to hands array\n",
    "    return hands\n",
    "players = deal(5, 4)  #hand contains 5 cards, 4 players\n",
    "pprint.pprint(players)\n"
   ]
  },
  {
   "cell_type": "code",
   "execution_count": 5,
   "id": "21e62e47",
   "metadata": {},
   "outputs": [
    {
     "data": {
      "text/plain": [
       "0"
      ]
     },
     "execution_count": 5,
     "metadata": {},
     "output_type": "execute_result"
    }
   ],
   "source": [
    "# analyze no of pairs of n kind\n",
    "\n",
    "def same_rank(hand, n_of_a_kind):\n",
    "    ranks = [card[1:] for card in hand]\n",
    "    counter = 0\n",
    "    already_counted = []\n",
    "    for rank in ranks:\n",
    "        if rank not in already_counted and \\\n",
    "                ranks.count(rank) == n_of_a_kind:\n",
    "            counter += 1\n",
    "            already_counted.append(rank)\n",
    "    return counter\n",
    "same_rank('hand','C9')\n"
   ]
  },
  {
   "cell_type": "code",
   "execution_count": 6,
   "id": "d7c16565",
   "metadata": {},
   "outputs": [
    {
     "name": "stdout",
     "output_type": "stream",
     "text": [
      "\\The hand CA, D5, HA, C4, D10 has 1 pairs, 0 3-of-a-kind and\n",
      "2+2 cards of the same suit.\n",
      "\\The hand SK, SJ, H5, C3, H6 has 0 pairs, 0 3-of-a-kind and\n",
      "2+2 cards of the same suit.\n",
      "\\The hand HQ, D4, HK, H3, S2 has 0 pairs, 0 3-of-a-kind and\n",
      "3 cards of the same suit.\n",
      "\\The hand C8, H8, D3, DQ, S8 has 0 pairs, 1 3-of-a-kind and\n",
      "2 cards of the same suit.\n"
     ]
    }
   ],
   "source": [
    "# analyze no of combinations of same suit\n",
    "\n",
    "def same_suit(hand):\n",
    "    suits = [card[0] for card in hand]\n",
    "    counter = {} # counter[suit] = how many cards of suit\n",
    "    for suit in suits:\n",
    "        count = suits.count(suit)\n",
    "        if count > 1:\n",
    "            counter[suit] = count\n",
    "    return counter\n",
    "for hand in players:\n",
    "    print ( \"\"\"\\The hand %s has %d pairs, %s 3-of-a-kind and\n",
    "%s cards of the same suit.\"\"\" % \\\n",
    "(', '.join(hand), same_rank(hand, 2),\n",
    "same_rank(hand, 3),\n",
    "'+'.join([str(s) for s in same_suit(hand).values()])))\n"
   ]
  },
  {
   "cell_type": "code",
   "execution_count": null,
   "id": "041db5a6",
   "metadata": {},
   "outputs": [],
   "source": []
  }
 ],
 "metadata": {
  "kernelspec": {
   "display_name": "Python 3 (ipykernel)",
   "language": "python",
   "name": "python3"
  },
  "language_info": {
   "codemirror_mode": {
    "name": "ipython",
    "version": 3
   },
   "file_extension": ".py",
   "mimetype": "text/x-python",
   "name": "python",
   "nbconvert_exporter": "python",
   "pygments_lexer": "ipython3",
   "version": "3.9.5"
  }
 },
 "nbformat": 4,
 "nbformat_minor": 5
}
