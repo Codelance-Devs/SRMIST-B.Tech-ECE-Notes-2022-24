{
 "cells": [
  {
   "cell_type": "code",
   "execution_count": 3,
   "id": "57c90356",
   "metadata": {},
   "outputs": [
    {
     "name": "stdout",
     "output_type": "stream",
     "text": [
      "['H8', 'D4', 'D3', 'C9', 'D8', 'H4', 'D10', 'S8', 'S9', 'H3', 'S6', 'CJ', 'C2', 'H9', 'C4', 'CA', 'C7', 'C6', 'SJ', 'D7', 'H6', 'DJ', 'D9', 'DK', 'HK', 'C5', 'H5', 'D2', 'D5', 'C8', 'DA', 'HA', 'S5', 'SA', 'C3', 'S3', 'H2', 'HJ', 'CK', 'S2', 'H7', 'S10', 'D6', 'CQ', 'S7', 'SQ', 'DQ', 'HQ', 'S4', 'SK', 'C10', 'H10']\n",
      "52\n"
     ]
    }
   ],
   "source": [
    "# make a deck of cards\n",
    "\n",
    "import random;\n",
    "\n",
    "def make_deck():\n",
    "    ranks = ['A', '2', '3', '4', '5', '6', '7', '8', '9', '10', 'J', 'Q', 'K']\n",
    "    suits = ['C', 'D', 'H', 'S']\n",
    "    deck = []\n",
    "    for s in suits:   \n",
    "        for r in ranks:\n",
    "            deck.append(s + r)\n",
    "    random.shuffle(deck)\n",
    "    return deck\n",
    "print(make_deck())\n",
    "print(len(make_deck()))"
   ]
  },
  {
   "cell_type": "code",
   "execution_count": 4,
   "id": "30e83c5b",
   "metadata": {},
   "outputs": [
    {
     "data": {
      "text/plain": [
       "(['SA', 'H3', 'S4', 'S9', 'HQ', 'H10', 'CJ', 'D8', 'H6', 'D10'],\n",
       " ['D3',\n",
       "  'HA',\n",
       "  'H9',\n",
       "  'DK',\n",
       "  'H7',\n",
       "  'DA',\n",
       "  'D4',\n",
       "  'D5',\n",
       "  'S10',\n",
       "  'C5',\n",
       "  'CK',\n",
       "  'D9',\n",
       "  'DJ',\n",
       "  'D2',\n",
       "  'H2',\n",
       "  'SK',\n",
       "  'CA',\n",
       "  'DQ',\n",
       "  'C7',\n",
       "  'C8',\n",
       "  'C6',\n",
       "  'SQ',\n",
       "  'H4',\n",
       "  'D7',\n",
       "  'CQ',\n",
       "  'SJ',\n",
       "  'S3',\n",
       "  'HJ',\n",
       "  'C10',\n",
       "  'C2',\n",
       "  'D6',\n",
       "  'S5',\n",
       "  'C4',\n",
       "  'S6',\n",
       "  'C9',\n",
       "  'H5',\n",
       "  'S8',\n",
       "  'S7',\n",
       "  'C3',\n",
       "  'H8',\n",
       "  'HK',\n",
       "  'S2'])"
      ]
     },
     "execution_count": 4,
     "metadata": {},
     "output_type": "execute_result"
    }
   ],
   "source": [
    "# draw a hand of cards \n",
    "\n",
    "my_deck = make_deck()\n",
    "\n",
    "def deal_hand(n, deck):\n",
    "    hand = [deck[i] for i in range(n)]\n",
    "    del deck[:n]\n",
    "    return hand, deck\n",
    "deal_hand(10,my_deck)"
   ]
  }
 ],
 "metadata": {
  "kernelspec": {
   "display_name": "Python 3 (ipykernel)",
   "language": "python",
   "name": "python3"
  },
  "language_info": {
   "codemirror_mode": {
    "name": "ipython",
    "version": 3
   },
   "file_extension": ".py",
   "mimetype": "text/x-python",
   "name": "python",
   "nbconvert_exporter": "python",
   "pygments_lexer": "ipython3",
   "version": "3.9.5"
  }
 },
 "nbformat": 4,
 "nbformat_minor": 5
}
