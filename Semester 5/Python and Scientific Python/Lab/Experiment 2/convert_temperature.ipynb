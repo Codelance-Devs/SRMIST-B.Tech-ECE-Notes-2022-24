{
 "cells": [
  {
   "cell_type": "code",
   "execution_count": 3,
   "id": "f1d1d57d",
   "metadata": {},
   "outputs": [],
   "source": [
    "KELVIN = 273.15\n",
    "\n",
    "def CelciusToKelvin(C):\n",
    "    return(C+KELVIN);\n",
    "\n",
    "def FarenheitToKelvin(F):\n",
    "    return(((F-32)/1.8)+KELVIN);\n",
    "    \n",
    "def KelvinToCelcius(K):\n",
    "    return(K-KELVIN);\n",
    "\n",
    "def KelvinToFarenheit(K):\n",
    "    return(((K-KELVIN)*1.8)+32);\n",
    "\n",
    "def CelciusToFarenheit(C):\n",
    "    return((C*1.8)+32);\n",
    "\n",
    "def FarenheitToCelcius(F):\n",
    "    return((F-32)/1.8);"
   ]
  },
  {
   "cell_type": "code",
   "execution_count": 4,
   "id": "32ffaa65",
   "metadata": {},
   "outputs": [
    {
     "name": "stdout",
     "output_type": "stream",
     "text": [
      "0 Kelvin is -273.15 C and -459.66999999999996 F\n",
      "0 Celcius is 273.15 K\n",
      "0 Farenheit is 255.3722222222222 K\n",
      "0 Celcius is 32.0 F and 0 Farenheit is -17.77777777777778 C\n"
     ]
    }
   ],
   "source": [
    "K=0\n",
    "C=0\n",
    "F=0\n",
    "\n",
    "C=KelvinToCelcius(0);\n",
    "F=KelvinToFarenheit(0);\n",
    "print('0 Kelvin is', C, 'C and', F, 'F');\n",
    "\n",
    "K=CelciusToKelvin(0);\n",
    "print('0 Celcius is', K, 'K');\n",
    "K=FarenheitToKelvin(0);\n",
    "print('0 Farenheit is', K, 'K');\n",
    "\n",
    "C=FarenheitToCelcius(0)\n",
    "F=CelciusToFarenheit(0);\n",
    "print('0 Celcius is', F, 'F and 0 Farenheit is', C, 'C');"
   ]
  }
 ],
 "metadata": {
  "kernelspec": {
   "display_name": "Python 3 (ipykernel)",
   "language": "python",
   "name": "python3"
  },
  "language_info": {
   "codemirror_mode": {
    "name": "ipython",
    "version": 3
   },
   "file_extension": ".py",
   "mimetype": "text/x-python",
   "name": "python",
   "nbconvert_exporter": "python",
   "pygments_lexer": "ipython3",
   "version": "3.9.12"
  }
 },
 "nbformat": 4,
 "nbformat_minor": 5
}
