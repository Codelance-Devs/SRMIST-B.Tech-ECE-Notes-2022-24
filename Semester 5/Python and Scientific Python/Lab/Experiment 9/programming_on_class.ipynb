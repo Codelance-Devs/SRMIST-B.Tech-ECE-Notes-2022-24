{
 "cells": [
  {
   "cell_type": "code",
   "execution_count": 10,
   "id": "b38a4993",
   "metadata": {},
   "outputs": [],
   "source": [
    "class BankAccount:\n",
    "    def __init__(self, accountNumber, name):\n",
    "        self.accountNumber = accountNumber;\n",
    "        self.name = name;\n",
    "        self.balance = 0;\n",
    "        \n",
    "    def bankFees(self):\n",
    "        self.balance = self.balance - (5/100)*self.balance;\n",
    "        print(\"5% bank fees applied for withdrawal\");\n",
    "        return;\n",
    "    \n",
    "    def deposit(self, amount):\n",
    "        self.balance = self.balance + amount;\n",
    "        print(\"Current balance after deposit:\", self.balance)\n",
    "        return self.balance;\n",
    "    \n",
    "    def withdrawal(self, amount):\n",
    "        self.balance = self.balance - amount;\n",
    "        self.bankFees();\n",
    "        print(\"Current balance after withdrawal:\", self.balance)\n",
    "        return self.balance;\n",
    "    \n",
    "    def details(self):\n",
    "        print(\"Account No.:\", self.accountNumber);\n",
    "        print(\"Name:\", self.name);\n",
    "        print(\"Current Balance:\", self.balance);\n",
    "        return;"
   ]
  },
  {
   "cell_type": "code",
   "execution_count": 11,
   "id": "557dbb5a",
   "metadata": {},
   "outputs": [
    {
     "name": "stdout",
     "output_type": "stream",
     "text": [
      "Current balance after deposit: 10000\n",
      "5% bank fees applied for withdrawal\n",
      "Current balance after withdrawal: 9025.0\n",
      "Account No.: 123456\n",
      "Name: Kunal Keshan\n",
      "Current Balance: 9025.0\n"
     ]
    }
   ],
   "source": [
    "person = BankAccount(123456, \"Kunal Keshan\")\n",
    "person.deposit(10000)\n",
    "person.withdrawal(500)\n",
    "person.details()"
   ]
  },
  {
   "cell_type": "code",
   "execution_count": 18,
   "id": "a6660b76",
   "metadata": {},
   "outputs": [
    {
     "name": "stdout",
     "output_type": "stream",
     "text": [
      "Length: 6\n",
      "Width: 9\n",
      "Perimeter: 24\n",
      "Area: 54\n",
      "Volume is: 486\n"
     ]
    },
    {
     "data": {
      "text/plain": [
       "486"
      ]
     },
     "execution_count": 18,
     "metadata": {},
     "output_type": "execute_result"
    }
   ],
   "source": [
    "class Rectangle:\n",
    "    def __init__(self, length, width):\n",
    "        self.length = length;\n",
    "        self.width = width;\n",
    "        \n",
    "    def perimeter(self):\n",
    "        return 2*(self.length+self.length)\n",
    "    \n",
    "    def area(self):\n",
    "        return self.length*self.width;\n",
    "    \n",
    "    def details(self):\n",
    "        self.perimeter();\n",
    "        self.area();\n",
    "        print(\"Length:\", self.length);\n",
    "        print(\"Width:\", self.width);\n",
    "        print(\"Perimeter:\", self.perimeter());\n",
    "        print(\"Area:\", self.area());\n",
    "        \n",
    "        \n",
    "class Parallelepipede(Rectangle):\n",
    "    def __init__(self, length, width, height):\n",
    "        super().__init__(length, width)\n",
    "        self.height = height;\n",
    "        \n",
    "    def volume(self):\n",
    "        volume = self.length*self.height*self.width;\n",
    "        print(\"Volume is:\", volume)\n",
    "        return volume;\n",
    "    \n",
    "    \n",
    "twod = Rectangle(6,9);\n",
    "twod.perimeter();\n",
    "twod.area();\n",
    "twod.details();\n",
    "\n",
    "threed = Parallelepipede(6,9,9)\n",
    "threed.volume()"
   ]
  },
  {
   "cell_type": "code",
   "execution_count": null,
   "id": "3dc6e083",
   "metadata": {},
   "outputs": [],
   "source": []
  }
 ],
 "metadata": {
  "kernelspec": {
   "display_name": "Python 3 (ipykernel)",
   "language": "python",
   "name": "python3"
  },
  "language_info": {
   "codemirror_mode": {
    "name": "ipython",
    "version": 3
   },
   "file_extension": ".py",
   "mimetype": "text/x-python",
   "name": "python",
   "nbconvert_exporter": "python",
   "pygments_lexer": "ipython3",
   "version": "3.9.5"
  }
 },
 "nbformat": 4,
 "nbformat_minor": 5
}
