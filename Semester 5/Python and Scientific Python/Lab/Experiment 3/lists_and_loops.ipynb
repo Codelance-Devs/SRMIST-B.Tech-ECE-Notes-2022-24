{
 "cells": [
  {
   "cell_type": "code",
   "execution_count": 18,
   "id": "ec82f22e",
   "metadata": {},
   "outputs": [],
   "source": [
    "primes = [2,3,5,7,11,13];"
   ]
  },
  {
   "cell_type": "code",
   "execution_count": 19,
   "id": "f225e96f",
   "metadata": {},
   "outputs": [
    {
     "name": "stdout",
     "output_type": "stream",
     "text": [
      "2\n",
      "3\n",
      "5\n",
      "7\n",
      "11\n",
      "13\n"
     ]
    }
   ],
   "source": [
    "for num in primes:\n",
    "    print(num)"
   ]
  },
  {
   "cell_type": "code",
   "execution_count": 20,
   "id": "6b928b33",
   "metadata": {},
   "outputs": [
    {
     "name": "stdout",
     "output_type": "stream",
     "text": [
      "[2, 3, 5, 7, 11, 13, 17]\n"
     ]
    }
   ],
   "source": [
    "p = 17;\n",
    "primes.append(p);\n",
    "print(primes);"
   ]
  },
  {
   "cell_type": "code",
   "execution_count": 31,
   "id": "a6edfab2",
   "metadata": {},
   "outputs": [
    {
     "name": "stdout",
     "output_type": "stream",
     "text": [
      "Enter the number of Calculations to be done=11\n",
      "     t      y\n",
      " 0.000  0.000\n",
      " 0.020 -0.180\n",
      " 0.041 -0.359\n",
      " 0.061 -0.539\n",
      " 0.082 -0.718\n",
      " 0.102 -0.898\n",
      " 0.122 -1.078\n",
      " 0.143 -1.257\n",
      " 0.163 -1.437\n",
      " 0.183 -1.617\n",
      " 0.204 -1.796\n",
      " 0.224 -1.976\n"
     ]
    }
   ],
   "source": [
    "v0=1\n",
    "g=9.81\n",
    "n=int(input(\"Enter the number of Calculations to be done=\"))\n",
    "dt=(2*(v0/g))/(n-1);\n",
    "print('%6s %6s' %('t', 'y'))\n",
    "for i in range(0, n+1):\n",
    "    t=i*dt;\n",
    "    y=v0*t-0.5*g*t*2;\n",
    "    print('%6.3f %6.3f' %(t, y))"
   ]
  },
  {
   "cell_type": "code",
   "execution_count": null,
   "id": "2c6e3a0e",
   "metadata": {},
   "outputs": [],
   "source": []
  }
 ],
 "metadata": {
  "kernelspec": {
   "display_name": "Python 3 (ipykernel)",
   "language": "python",
   "name": "python3"
  },
  "language_info": {
   "codemirror_mode": {
    "name": "ipython",
    "version": 3
   },
   "file_extension": ".py",
   "mimetype": "text/x-python",
   "name": "python",
   "nbconvert_exporter": "python",
   "pygments_lexer": "ipython3",
   "version": "3.9.12"
  }
 },
 "nbformat": 4,
 "nbformat_minor": 5
}
