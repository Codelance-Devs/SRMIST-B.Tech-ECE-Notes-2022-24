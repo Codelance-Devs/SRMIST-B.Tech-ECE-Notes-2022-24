{
 "cells": [
  {
   "cell_type": "code",
   "execution_count": 3,
   "id": "3140f44f-7add-4c90-98e8-6cfb9a7f3d1f",
   "metadata": {},
   "outputs": [
    {
     "name": "stdout",
     "output_type": "stream",
     "text": [
      "Requirement already satisfied: simpleaudio in c:\\users\\kunal keshan\\appdata\\local\\programs\\python\\python310\\lib\\site-packages (1.0.4)\n",
      "Note: you may need to restart the kernel to use updated packages.\n"
     ]
    }
   ],
   "source": [
    "pip install simpleaudio"
   ]
  },
  {
   "cell_type": "code",
   "execution_count": 7,
   "id": "1a27de97-1088-460b-ad46-aa97adc4eb2d",
   "metadata": {},
   "outputs": [
    {
     "name": "stdout",
     "output_type": "stream",
     "text": [
      "the sound wave of frequency 440Hz is generated and heard\n"
     ]
    }
   ],
   "source": [
    "import numpy as np\n",
    "import simpleaudio as sa\n",
    "frequency=440\n",
    "fs=44100\n",
    "seconds=10\n",
    "t=np.linspace(0,seconds,seconds*fs,False)\n",
    "note=np.sin(frequency*t*2*np.pi)\n",
    "audio=note*(2**15-1)/np.max(np.abs(note))\n",
    "audio=audio.astype(np.int16)\n",
    "play_obj=sa.play_buffer(audio,2,2,fs)\n",
    "print(\"the sound wave of frequency 440Hz is generated and heard\")\n",
    "play_obj.wait_done()"
   ]
  },
  {
   "cell_type": "code",
   "execution_count": null,
   "id": "8a8eabf7-f599-4268-9581-8ecdc570018b",
   "metadata": {},
   "outputs": [],
   "source": []
  },
  {
   "cell_type": "code",
   "execution_count": null,
   "id": "64a6124a-d058-4989-8aa2-5401e1b43676",
   "metadata": {},
   "outputs": [],
   "source": []
  }
 ],
 "metadata": {
  "kernelspec": {
   "display_name": "Python 3 (ipykernel)",
   "language": "python",
   "name": "python3"
  },
  "language_info": {
   "codemirror_mode": {
    "name": "ipython",
    "version": 3
   },
   "file_extension": ".py",
   "mimetype": "text/x-python",
   "name": "python",
   "nbconvert_exporter": "python",
   "pygments_lexer": "ipython3",
   "version": "3.10.5"
  }
 },
 "nbformat": 4,
 "nbformat_minor": 5
}
