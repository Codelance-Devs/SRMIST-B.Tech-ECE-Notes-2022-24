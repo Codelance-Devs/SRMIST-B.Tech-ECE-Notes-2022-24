{
 "cells": [
  {
   "cell_type": "code",
   "execution_count": 1,
   "id": "b2edbcb2-4d72-437e-910d-d065f5718bc0",
   "metadata": {},
   "outputs": [
    {
     "name": "stdout",
     "output_type": "stream",
     "text": [
      "Mean and (standard deviation) times per word (sec)\n",
      "gender | black | color | difference\n",
      " F | 0.770 (0.137) | 1.632 (0.306) | 0.862\n",
      " M | 0.849 (0.186) | 1.679 (0.394) | 0.830\n"
     ]
    }
   ],
   "source": [
    "import numpy as np\n",
    "# Read in the data from stroop.txt, identifying missing values and replacing them with NaN\n",
    "data = np.genfromtxt('stroop.txt', skip_header=1,dtype=[('student','u8'), ('gender','S1'),('black','f8'), ('color','f8')], delimiter=',',missing_values='X')\n",
    "nwords = 25\n",
    "# Remove invalid rows from data set\n",
    "filtered_data = data[np.isfinite(data['black']) & np.isfinite(data['color'])] \n",
    "# Extract rows by gender (M/F) and word color (black/color) and normalize\n",
    "# to time taken per word \n",
    "fb = filtered_data['black'][filtered_data['gender']==b'F'] / nwords\n",
    "mb = filtered_data['black'][filtered_data['gender']==b'M'] / nwords \n",
    "fc = filtered_data['color'][filtered_data['gender']==b'F'] / nwords\n",
    "mc = filtered_data['color'][filtered_data['gender']==b'M'] / nwords \n",
    "# Produce statistics: mean and standard deviation by gender and word color \n",
    "mu_fb, sig_fb = np.mean(fb), np.std(fb) \n",
    "mu_fc, sig_fc = np.mean(fc), np.std(fc) \n",
    "mu_mb, sig_mb = np.mean(mb), np.std(mb) \n",
    "mu_mc, sig_mc = np.mean(mc), np.std(mc)\n",
    "print('Mean and (standard deviation) times per word (sec)') \n",
    "print('gender | black | color | difference')\n",
    "print(' F | {:4.3f} ({:4.3f}) | {:4.3f} ({:4.3f}) | {:4.3f}'.format(mu_fb, sig_fb, mu_fc, sig_fc, mu_fc - mu_fb))\n",
    "print(' M | {:4.3f} ({:4.3f}) | {:4.3f} ({:4.3f}) | {:4.3f}'.format(mu_mb, sig_mb, mu_mc, sig_mc, mu_mc - mu_mb))"
   ]
  },
  {
   "cell_type": "code",
   "execution_count": null,
   "id": "1943cb69-95c4-4713-a3ba-9fd298c37e6f",
   "metadata": {},
   "outputs": [],
   "source": []
  }
 ],
 "metadata": {
  "kernelspec": {
   "display_name": "Python 3 (ipykernel)",
   "language": "python",
   "name": "python3"
  },
  "language_info": {
   "codemirror_mode": {
    "name": "ipython",
    "version": 3
   },
   "file_extension": ".py",
   "mimetype": "text/x-python",
   "name": "python",
   "nbconvert_exporter": "python",
   "pygments_lexer": "ipython3",
   "version": "3.9.5"
  }
 },
 "nbformat": 4,
 "nbformat_minor": 5
}
