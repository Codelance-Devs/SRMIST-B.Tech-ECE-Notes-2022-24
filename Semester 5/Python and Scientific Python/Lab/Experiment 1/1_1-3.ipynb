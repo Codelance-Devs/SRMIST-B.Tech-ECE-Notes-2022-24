{
 "cells": [
  {
   "cell_type": "code",
   "execution_count": null,
   "id": "93cbef2c",
   "metadata": {},
   "outputs": [
    {
     "name": "stdout",
     "output_type": "stream",
     "text": [
      "0.17603266338214976\n"
     ]
    }
   ],
   "source": [
    "from math import *\n",
    "m=0\n",
    "a=2.0\n",
    "s=1.0\n",
    "f=1/(sqrt(2*pi)*a)*exp(-0.5*((s-m)/a)**2)\n",
    "print(f)\n",
    "# RA2011004010051 Kunal Keshan ECE A"
   ]
  },
  {
   "cell_type": "code",
   "execution_count": 1,
   "id": "50d80586",
   "metadata": {},
   "outputs": [
    {
     "name": "stdout",
     "output_type": "stream",
     "text": [
      "The trajectory of the ball is= 8.085504\n"
     ]
    }
   ],
   "source": [
    "from math import *\n",
    "y1=1\n",
    "deg=float(input(\"Enter the angle=\"))\n",
    "g=9.81\n",
    "u=float(input(\"Enter the initial velocity=\"))\n",
    "x=float(input(\"Enter the value of x=\"))\n",
    "\n",
    "rad=(pi/180)*deg\n",
    "u=u/3.6\n",
    "y=(x*tan(rad))+((g*(x**2))/(2*(u**2)*(cos(rad)**2)))+y1\n",
    "print(\"The trajectory of the ball is=\", y)\n",
    "# RA2011004010051 Kunal Keshan ECE A"
   ]
  },
  {
   "cell_type": "code",
   "execution_count": 2,
   "id": "90e1f25a",
   "metadata": {},
   "outputs": [
    {
     "name": "stdout",
     "output_type": "stream",
     "text": [
      "For hard kick velocity= 33.333333333333336 the gravitational force is 4.2183 and the drag is 5.068436147791534\n",
      "For soft kick velocity= 2.7777777777777777 the gravitational force is 4.2183 and the drag is 0.03519747324855231\n"
     ]
    }
   ],
   "source": [
    "from math import *\n",
    "dc=0.2\n",
    "ad=1.2\n",
    "a=pi*0.11**2\n",
    "m=0.43\n",
    "g=9.81\n",
    "Fg=m*g\n",
    "sc=1000.0/3600\n",
    "v=120*sc\n",
    "fd=0.5*dc*ad*a*v**2\n",
    "print(\"For hard kick velocity=\", v, \"the gravitational force is\", Fg, \"and the drag is\", fd)\n",
    "v1=10*sc\n",
    "fd1=0.5*dc*ad*a*v1**2\n",
    "print(\"For soft kick velocity=\", v1, \"the gravitational force is\", Fg, \"and the drag is\", fd1)\n",
    "# RA2011004010051 Kunal Keshan ECE A"
   ]
  }
 ],
 "metadata": {
  "kernelspec": {
   "display_name": "Python 3.10.5 64-bit",
   "language": "python",
   "name": "python3"
  },
  "language_info": {
   "codemirror_mode": {
    "name": "ipython",
    "version": 3
   },
   "file_extension": ".py",
   "mimetype": "text/x-python",
   "name": "python",
   "nbconvert_exporter": "python",
   "pygments_lexer": "ipython3",
   "version": "3.10.5"
  },
  "vscode": {
   "interpreter": {
    "hash": "175f8edd0b90279d4edbccc261f14f8abe180fba50bf66a90facdb9f42da7bc7"
   }
  }
 },
 "nbformat": 4,
 "nbformat_minor": 5
}
